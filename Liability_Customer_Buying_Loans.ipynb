{
  "nbformat": 4,
  "nbformat_minor": 0,
  "metadata": {
    "colab": {
      "name": "Liability_Customer_Buying_Loans.ipynb",
      "provenance": [],
      "collapsed_sections": [],
      "toc_visible": true,
      "mount_file_id": "1A-hOEdgK8yg-u6dyo0nqEJZigpLFgu2X",
      "authorship_tag": "ABX9TyPxzfDefyPfpY/y59CITW9C",
      "include_colab_link": true
    },
    "kernelspec": {
      "name": "python3",
      "display_name": "Python 3"
    }
  },
  "cells": [
    {
      "cell_type": "markdown",
      "metadata": {
        "id": "view-in-github",
        "colab_type": "text"
      },
      "source": [
        "<a href=\"https://colab.research.google.com/github/rafael-ariascalles/MachineLearningExamples/blob/main/Liability_Customer_Buying_Loans.ipynb\" target=\"_parent\"><img src=\"https://colab.research.google.com/assets/colab-badge.svg\" alt=\"Open In Colab\"/></a>"
      ]
    },
    {
      "cell_type": "markdown",
      "metadata": {
        "id": "HbOhayMTmbLe"
      },
      "source": [
        "## Business Objective\n",
        "\n",
        "Predict the likelihood of a liability customer buying personal loans"
      ]
    },
    {
      "cell_type": "markdown",
      "metadata": {
        "id": "51Lqs3b7ofq_"
      },
      "source": [
        "Steps and tasks:\n",
        "* Import the datasets and libraries, check datatype, statistical summary, shape, null values or incorrect imputation. (5 marks)\n",
        "\n",
        "* Split the data into training and test set in the ratio of 70:30 respectively (5 marks)\n",
        "* Use the Logistic Regression model to predict whether the customer will take a personal loan or not. Print all the metrics related to evaluating the model performance (accuracy, recall, precision, f1score, and roc_auc_score). Draw a heatmap to display confusion matrix (15 marks)\n",
        "* Find out coefficients of all the attributes and show the output in a data frame with column names? For test data show all the rows where the predicted class is not equal to the observed class. (10 marks)\n",
        "* Give conclusion related to the Business understanding of your model? (5 marks)"
      ]
    },
    {
      "cell_type": "markdown",
      "metadata": {
        "id": "EOzFoxSgrk_F"
      },
      "source": [
        "## Libraries"
      ]
    },
    {
      "cell_type": "code",
      "metadata": {
        "id": "InJttOaHk28p"
      },
      "source": [
        "import pandas as pd\n",
        "import numpy as np\n",
        "#import sklearn\n",
        "import matplotlib.pyplot as plt\n",
        "import seaborn as sns\n",
        "from sklearn.preprocessing import OneHotEncoder"
      ],
      "execution_count": null,
      "outputs": []
    },
    {
      "cell_type": "markdown",
      "metadata": {
        "id": "FvXOaFEkmnuJ"
      },
      "source": [
        "## Data Understanding"
      ]
    },
    {
      "cell_type": "markdown",
      "metadata": {
        "id": "UGzImGhPq6wj"
      },
      "source": [
        "Attribute Information:\n",
        "* ID: Customer ID \n",
        "* Age NUM: Customer's age in completed years\n",
        "* Experience NUM: #years of professional experience\n",
        "* Income NUM: Annual income of the customer K\n",
        "* ZIP Code CATE: Home Address ZIP\n",
        "* Family CATE: Family size of the customer\n",
        "* CCAvg NUM: Avg. spending on credit cards per month k\n",
        "* Education CATE: Education Level. 1: Undergrad; 2: Graduate; 3: Advanced/Professional\n",
        "* Mortgage NUM: Value of house mortgage if any. k\n",
        "* Personal Loan TARGET: Did this customer accept the personal loan offered in the last campaign?\n",
        "* Securities Account BOOL: Does the customer have a securities account with the bank?\n",
        "* CD Account BOOL: Does the customer have a certificate of deposit (CD) account with the bank?\n",
        "* Online BOOL: Does the customer use internet banking facilities?\n",
        "* Credit card BOOL: Does the customer use a credit card issued by the bank?"
      ]
    },
    {
      "cell_type": "code",
      "metadata": {
        "id": "OkRa3fh-mrZf"
      },
      "source": [
        "data = pd.read_csv(\"drive/MyDrive/PGP-AIML/Bank_Personal_Loan_Modelling.csv\")"
      ],
      "execution_count": null,
      "outputs": []
    },
    {
      "cell_type": "markdown",
      "metadata": {
        "id": "8nB8cFHRl-YI"
      },
      "source": [
        "Columns names normalize to lower and replace space with underscore"
      ]
    },
    {
      "cell_type": "code",
      "metadata": {
        "id": "UK6OTt1Hl8Bk"
      },
      "source": [
        "data.columns = [s.lower().replace(\" \",\"_\") for s in data.columns]"
      ],
      "execution_count": null,
      "outputs": []
    },
    {
      "cell_type": "code",
      "metadata": {
        "id": "0xWLHQd8msJY",
        "colab": {
          "base_uri": "https://localhost:8080/",
          "height": 195
        },
        "outputId": "ef62ac23-bb5d-4863-cb7f-f5f9201d4493"
      },
      "source": [
        "data.head()"
      ],
      "execution_count": null,
      "outputs": [
        {
          "output_type": "execute_result",
          "data": {
            "text/html": [
              "<div>\n",
              "<style scoped>\n",
              "    .dataframe tbody tr th:only-of-type {\n",
              "        vertical-align: middle;\n",
              "    }\n",
              "\n",
              "    .dataframe tbody tr th {\n",
              "        vertical-align: top;\n",
              "    }\n",
              "\n",
              "    .dataframe thead th {\n",
              "        text-align: right;\n",
              "    }\n",
              "</style>\n",
              "<table border=\"1\" class=\"dataframe\">\n",
              "  <thead>\n",
              "    <tr style=\"text-align: right;\">\n",
              "      <th></th>\n",
              "      <th>id</th>\n",
              "      <th>age</th>\n",
              "      <th>experience</th>\n",
              "      <th>income</th>\n",
              "      <th>zip_code</th>\n",
              "      <th>family</th>\n",
              "      <th>ccavg</th>\n",
              "      <th>education</th>\n",
              "      <th>mortgage</th>\n",
              "      <th>personal_loan</th>\n",
              "      <th>securities_account</th>\n",
              "      <th>cd_account</th>\n",
              "      <th>online</th>\n",
              "      <th>creditcard</th>\n",
              "    </tr>\n",
              "  </thead>\n",
              "  <tbody>\n",
              "    <tr>\n",
              "      <th>0</th>\n",
              "      <td>1</td>\n",
              "      <td>25</td>\n",
              "      <td>1</td>\n",
              "      <td>49</td>\n",
              "      <td>91107</td>\n",
              "      <td>4</td>\n",
              "      <td>1.6</td>\n",
              "      <td>1</td>\n",
              "      <td>0</td>\n",
              "      <td>0</td>\n",
              "      <td>1</td>\n",
              "      <td>0</td>\n",
              "      <td>0</td>\n",
              "      <td>0</td>\n",
              "    </tr>\n",
              "    <tr>\n",
              "      <th>1</th>\n",
              "      <td>2</td>\n",
              "      <td>45</td>\n",
              "      <td>19</td>\n",
              "      <td>34</td>\n",
              "      <td>90089</td>\n",
              "      <td>3</td>\n",
              "      <td>1.5</td>\n",
              "      <td>1</td>\n",
              "      <td>0</td>\n",
              "      <td>0</td>\n",
              "      <td>1</td>\n",
              "      <td>0</td>\n",
              "      <td>0</td>\n",
              "      <td>0</td>\n",
              "    </tr>\n",
              "    <tr>\n",
              "      <th>2</th>\n",
              "      <td>3</td>\n",
              "      <td>39</td>\n",
              "      <td>15</td>\n",
              "      <td>11</td>\n",
              "      <td>94720</td>\n",
              "      <td>1</td>\n",
              "      <td>1.0</td>\n",
              "      <td>1</td>\n",
              "      <td>0</td>\n",
              "      <td>0</td>\n",
              "      <td>0</td>\n",
              "      <td>0</td>\n",
              "      <td>0</td>\n",
              "      <td>0</td>\n",
              "    </tr>\n",
              "    <tr>\n",
              "      <th>3</th>\n",
              "      <td>4</td>\n",
              "      <td>35</td>\n",
              "      <td>9</td>\n",
              "      <td>100</td>\n",
              "      <td>94112</td>\n",
              "      <td>1</td>\n",
              "      <td>2.7</td>\n",
              "      <td>2</td>\n",
              "      <td>0</td>\n",
              "      <td>0</td>\n",
              "      <td>0</td>\n",
              "      <td>0</td>\n",
              "      <td>0</td>\n",
              "      <td>0</td>\n",
              "    </tr>\n",
              "    <tr>\n",
              "      <th>4</th>\n",
              "      <td>5</td>\n",
              "      <td>35</td>\n",
              "      <td>8</td>\n",
              "      <td>45</td>\n",
              "      <td>91330</td>\n",
              "      <td>4</td>\n",
              "      <td>1.0</td>\n",
              "      <td>2</td>\n",
              "      <td>0</td>\n",
              "      <td>0</td>\n",
              "      <td>0</td>\n",
              "      <td>0</td>\n",
              "      <td>0</td>\n",
              "      <td>1</td>\n",
              "    </tr>\n",
              "  </tbody>\n",
              "</table>\n",
              "</div>"
            ],
            "text/plain": [
              "   id  age  experience  ...  cd_account  online  creditcard\n",
              "0   1   25           1  ...           0       0           0\n",
              "1   2   45          19  ...           0       0           0\n",
              "2   3   39          15  ...           0       0           0\n",
              "3   4   35           9  ...           0       0           0\n",
              "4   5   35           8  ...           0       0           1\n",
              "\n",
              "[5 rows x 14 columns]"
            ]
          },
          "metadata": {
            "tags": []
          },
          "execution_count": 4
        }
      ]
    },
    {
      "cell_type": "code",
      "metadata": {
        "colab": {
          "base_uri": "https://localhost:8080/"
        },
        "id": "mI_Qxin2qPyL",
        "outputId": "3b18e8cc-e300-4d4c-db40-1bf2c816b6a4"
      },
      "source": [
        "data.columns"
      ],
      "execution_count": null,
      "outputs": [
        {
          "output_type": "execute_result",
          "data": {
            "text/plain": [
              "Index(['id', 'age', 'experience', 'income', 'zip_code', 'family', 'ccavg',\n",
              "       'education', 'mortgage', 'personal_loan', 'securities_account',\n",
              "       'cd_account', 'online', 'creditcard'],\n",
              "      dtype='object')"
            ]
          },
          "metadata": {
            "tags": []
          },
          "execution_count": 5
        }
      ]
    },
    {
      "cell_type": "code",
      "metadata": {
        "colab": {
          "base_uri": "https://localhost:8080/"
        },
        "id": "B6yvDv9SqH7d",
        "outputId": "3f3bb8ee-a0e0-4847-810d-03de4e02952e"
      },
      "source": [
        "data.shape"
      ],
      "execution_count": null,
      "outputs": [
        {
          "output_type": "execute_result",
          "data": {
            "text/plain": [
              "(5000, 14)"
            ]
          },
          "metadata": {
            "tags": []
          },
          "execution_count": 6
        }
      ]
    },
    {
      "cell_type": "code",
      "metadata": {
        "colab": {
          "base_uri": "https://localhost:8080/"
        },
        "id": "XsWiE_h2qm2I",
        "outputId": "f127cb24-decc-472c-ca55-68ab0fbb5dd7"
      },
      "source": [
        "data.info()"
      ],
      "execution_count": null,
      "outputs": [
        {
          "output_type": "stream",
          "text": [
            "<class 'pandas.core.frame.DataFrame'>\n",
            "RangeIndex: 5000 entries, 0 to 4999\n",
            "Data columns (total 14 columns):\n",
            " #   Column              Non-Null Count  Dtype  \n",
            "---  ------              --------------  -----  \n",
            " 0   id                  5000 non-null   int64  \n",
            " 1   age                 5000 non-null   int64  \n",
            " 2   experience          5000 non-null   int64  \n",
            " 3   income              5000 non-null   int64  \n",
            " 4   zip_code            5000 non-null   int64  \n",
            " 5   family              5000 non-null   int64  \n",
            " 6   ccavg               5000 non-null   float64\n",
            " 7   education           5000 non-null   int64  \n",
            " 8   mortgage            5000 non-null   int64  \n",
            " 9   personal_loan       5000 non-null   int64  \n",
            " 10  securities_account  5000 non-null   int64  \n",
            " 11  cd_account          5000 non-null   int64  \n",
            " 12  online              5000 non-null   int64  \n",
            " 13  creditcard          5000 non-null   int64  \n",
            "dtypes: float64(1), int64(13)\n",
            "memory usage: 547.0 KB\n"
          ],
          "name": "stdout"
        }
      ]
    },
    {
      "cell_type": "code",
      "metadata": {
        "colab": {
          "base_uri": "https://localhost:8080/",
          "height": 304
        },
        "id": "xXY3q6k5qGRi",
        "outputId": "80519b7b-5e90-44e4-8a33-0a37b0c4b7b3"
      },
      "source": [
        "data.describe()"
      ],
      "execution_count": null,
      "outputs": [
        {
          "output_type": "execute_result",
          "data": {
            "text/html": [
              "<div>\n",
              "<style scoped>\n",
              "    .dataframe tbody tr th:only-of-type {\n",
              "        vertical-align: middle;\n",
              "    }\n",
              "\n",
              "    .dataframe tbody tr th {\n",
              "        vertical-align: top;\n",
              "    }\n",
              "\n",
              "    .dataframe thead th {\n",
              "        text-align: right;\n",
              "    }\n",
              "</style>\n",
              "<table border=\"1\" class=\"dataframe\">\n",
              "  <thead>\n",
              "    <tr style=\"text-align: right;\">\n",
              "      <th></th>\n",
              "      <th>id</th>\n",
              "      <th>age</th>\n",
              "      <th>experience</th>\n",
              "      <th>income</th>\n",
              "      <th>zip_code</th>\n",
              "      <th>family</th>\n",
              "      <th>ccavg</th>\n",
              "      <th>education</th>\n",
              "      <th>mortgage</th>\n",
              "      <th>personal_loan</th>\n",
              "      <th>securities_account</th>\n",
              "      <th>cd_account</th>\n",
              "      <th>online</th>\n",
              "      <th>creditcard</th>\n",
              "    </tr>\n",
              "  </thead>\n",
              "  <tbody>\n",
              "    <tr>\n",
              "      <th>count</th>\n",
              "      <td>5000.000000</td>\n",
              "      <td>5000.000000</td>\n",
              "      <td>5000.000000</td>\n",
              "      <td>5000.000000</td>\n",
              "      <td>5000.000000</td>\n",
              "      <td>5000.000000</td>\n",
              "      <td>5000.000000</td>\n",
              "      <td>5000.000000</td>\n",
              "      <td>5000.000000</td>\n",
              "      <td>5000.000000</td>\n",
              "      <td>5000.000000</td>\n",
              "      <td>5000.00000</td>\n",
              "      <td>5000.000000</td>\n",
              "      <td>5000.000000</td>\n",
              "    </tr>\n",
              "    <tr>\n",
              "      <th>mean</th>\n",
              "      <td>2500.500000</td>\n",
              "      <td>45.338400</td>\n",
              "      <td>20.104600</td>\n",
              "      <td>73.774200</td>\n",
              "      <td>93152.503000</td>\n",
              "      <td>2.396400</td>\n",
              "      <td>1.937938</td>\n",
              "      <td>1.881000</td>\n",
              "      <td>56.498800</td>\n",
              "      <td>0.096000</td>\n",
              "      <td>0.104400</td>\n",
              "      <td>0.06040</td>\n",
              "      <td>0.596800</td>\n",
              "      <td>0.294000</td>\n",
              "    </tr>\n",
              "    <tr>\n",
              "      <th>std</th>\n",
              "      <td>1443.520003</td>\n",
              "      <td>11.463166</td>\n",
              "      <td>11.467954</td>\n",
              "      <td>46.033729</td>\n",
              "      <td>2121.852197</td>\n",
              "      <td>1.147663</td>\n",
              "      <td>1.747659</td>\n",
              "      <td>0.839869</td>\n",
              "      <td>101.713802</td>\n",
              "      <td>0.294621</td>\n",
              "      <td>0.305809</td>\n",
              "      <td>0.23825</td>\n",
              "      <td>0.490589</td>\n",
              "      <td>0.455637</td>\n",
              "    </tr>\n",
              "    <tr>\n",
              "      <th>min</th>\n",
              "      <td>1.000000</td>\n",
              "      <td>23.000000</td>\n",
              "      <td>-3.000000</td>\n",
              "      <td>8.000000</td>\n",
              "      <td>9307.000000</td>\n",
              "      <td>1.000000</td>\n",
              "      <td>0.000000</td>\n",
              "      <td>1.000000</td>\n",
              "      <td>0.000000</td>\n",
              "      <td>0.000000</td>\n",
              "      <td>0.000000</td>\n",
              "      <td>0.00000</td>\n",
              "      <td>0.000000</td>\n",
              "      <td>0.000000</td>\n",
              "    </tr>\n",
              "    <tr>\n",
              "      <th>25%</th>\n",
              "      <td>1250.750000</td>\n",
              "      <td>35.000000</td>\n",
              "      <td>10.000000</td>\n",
              "      <td>39.000000</td>\n",
              "      <td>91911.000000</td>\n",
              "      <td>1.000000</td>\n",
              "      <td>0.700000</td>\n",
              "      <td>1.000000</td>\n",
              "      <td>0.000000</td>\n",
              "      <td>0.000000</td>\n",
              "      <td>0.000000</td>\n",
              "      <td>0.00000</td>\n",
              "      <td>0.000000</td>\n",
              "      <td>0.000000</td>\n",
              "    </tr>\n",
              "    <tr>\n",
              "      <th>50%</th>\n",
              "      <td>2500.500000</td>\n",
              "      <td>45.000000</td>\n",
              "      <td>20.000000</td>\n",
              "      <td>64.000000</td>\n",
              "      <td>93437.000000</td>\n",
              "      <td>2.000000</td>\n",
              "      <td>1.500000</td>\n",
              "      <td>2.000000</td>\n",
              "      <td>0.000000</td>\n",
              "      <td>0.000000</td>\n",
              "      <td>0.000000</td>\n",
              "      <td>0.00000</td>\n",
              "      <td>1.000000</td>\n",
              "      <td>0.000000</td>\n",
              "    </tr>\n",
              "    <tr>\n",
              "      <th>75%</th>\n",
              "      <td>3750.250000</td>\n",
              "      <td>55.000000</td>\n",
              "      <td>30.000000</td>\n",
              "      <td>98.000000</td>\n",
              "      <td>94608.000000</td>\n",
              "      <td>3.000000</td>\n",
              "      <td>2.500000</td>\n",
              "      <td>3.000000</td>\n",
              "      <td>101.000000</td>\n",
              "      <td>0.000000</td>\n",
              "      <td>0.000000</td>\n",
              "      <td>0.00000</td>\n",
              "      <td>1.000000</td>\n",
              "      <td>1.000000</td>\n",
              "    </tr>\n",
              "    <tr>\n",
              "      <th>max</th>\n",
              "      <td>5000.000000</td>\n",
              "      <td>67.000000</td>\n",
              "      <td>43.000000</td>\n",
              "      <td>224.000000</td>\n",
              "      <td>96651.000000</td>\n",
              "      <td>4.000000</td>\n",
              "      <td>10.000000</td>\n",
              "      <td>3.000000</td>\n",
              "      <td>635.000000</td>\n",
              "      <td>1.000000</td>\n",
              "      <td>1.000000</td>\n",
              "      <td>1.00000</td>\n",
              "      <td>1.000000</td>\n",
              "      <td>1.000000</td>\n",
              "    </tr>\n",
              "  </tbody>\n",
              "</table>\n",
              "</div>"
            ],
            "text/plain": [
              "                id          age  ...       online   creditcard\n",
              "count  5000.000000  5000.000000  ...  5000.000000  5000.000000\n",
              "mean   2500.500000    45.338400  ...     0.596800     0.294000\n",
              "std    1443.520003    11.463166  ...     0.490589     0.455637\n",
              "min       1.000000    23.000000  ...     0.000000     0.000000\n",
              "25%    1250.750000    35.000000  ...     0.000000     0.000000\n",
              "50%    2500.500000    45.000000  ...     1.000000     0.000000\n",
              "75%    3750.250000    55.000000  ...     1.000000     1.000000\n",
              "max    5000.000000    67.000000  ...     1.000000     1.000000\n",
              "\n",
              "[8 rows x 14 columns]"
            ]
          },
          "metadata": {
            "tags": []
          },
          "execution_count": 8
        }
      ]
    },
    {
      "cell_type": "markdown",
      "metadata": {
        "id": "rgQdAldAsokk"
      },
      "source": [
        "Different preprocessing will be use for ZIP Code, Family, Education. These variable represent a Discrite information or a category information.\r\n",
        "\r\n",
        "ID will be drop.\r\n",
        "\r\n",
        "With Expirience feature it will be \"Clip\" to have a range between 1 to Max, rigth now we have -3 as minimun. we are going to transform every number less than 1 in 1 .\r\n",
        "\r\n",
        "Age, Income, CCavg and  Mortgage will be use as is. only that it will be generated a Flag if the Mortgage column is 0, indicating if the customer has a Mortage.\r\n",
        "\r\n",
        "For binary variables it will be use as is.\r\n",
        "\r\n",
        "the Number 1 in Family,Education will be the base class of the model. \r\n",
        "\r\n",
        "For the ZIP Code, it will be take the first 2 digits and create dummy variable. and it only be use the top 4 Zip codes and then the base class will be the rest of the Zip Code"
      ]
    },
    {
      "cell_type": "markdown",
      "metadata": {
        "id": "qn1ezZ7CvX3u"
      },
      "source": [
        "# Data Exploration (EDA)"
      ]
    },
    {
      "cell_type": "markdown",
      "metadata": {
        "id": "p_m-79T1Jx4G"
      },
      "source": [
        "* EDA: Study the data distribution in each attribute and target variable, share your findings (20 marks) \r\n",
        "  * Number of unique in each column?\r\n",
        "  * Number of people with zero mortgage?\r\n",
        "  * Number of people with zero credit card spending per month?\r\n",
        "  * Value counts of all categorical columns.\r\n",
        " Univariate and Bivariate\r\n",
        " Get data model ready"
      ]
    },
    {
      "cell_type": "markdown",
      "metadata": {
        "id": "oj_FF_-2euPJ"
      },
      "source": [
        "#### Unique values in the dataset"
      ]
    },
    {
      "cell_type": "code",
      "metadata": {
        "id": "wJfMlxcOepp3",
        "colab": {
          "base_uri": "https://localhost:8080/"
        },
        "outputId": "d17440ad-3571-4b5d-f96c-e14684823892"
      },
      "source": [
        "print(\"Unique values:\")\r\n",
        "data.nunique()"
      ],
      "execution_count": null,
      "outputs": [
        {
          "output_type": "stream",
          "text": [
            "Unique values:\n"
          ],
          "name": "stdout"
        },
        {
          "output_type": "execute_result",
          "data": {
            "text/plain": [
              "id                    5000\n",
              "age                     45\n",
              "experience              47\n",
              "income                 162\n",
              "zip_code               467\n",
              "family                   4\n",
              "ccavg                  108\n",
              "education                3\n",
              "mortgage               347\n",
              "personal_loan            2\n",
              "securities_account       2\n",
              "cd_account               2\n",
              "online                   2\n",
              "creditcard               2\n",
              "dtype: int64"
            ]
          },
          "metadata": {
            "tags": []
          },
          "execution_count": 9
        }
      ]
    },
    {
      "cell_type": "code",
      "metadata": {
        "colab": {
          "base_uri": "https://localhost:8080/"
        },
        "id": "54BKmI8re3FW",
        "outputId": "239320e8-a163-405f-d638-c7331c9b6671"
      },
      "source": [
        "data[\"zip_code\"].apply(lambda x: str(x)[:2]).nunique()"
      ],
      "execution_count": null,
      "outputs": [
        {
          "output_type": "execute_result",
          "data": {
            "text/plain": [
              "7"
            ]
          },
          "metadata": {
            "tags": []
          },
          "execution_count": 10
        }
      ]
    },
    {
      "cell_type": "markdown",
      "metadata": {
        "id": "_qkHLZcMfuId"
      },
      "source": [
        "As the ZIP code is a Categorical Variable given that it doesnt have a Numeric interpretation, it would be group in ZIP codes of 2 digits to have a category. in that way we will be only using 7 Codes for location"
      ]
    },
    {
      "cell_type": "code",
      "metadata": {
        "colab": {
          "base_uri": "https://localhost:8080/"
        },
        "id": "NwS0NWtSe6wu",
        "outputId": "a7f73908-fdc0-449b-ac65-d841f9496126"
      },
      "source": [
        "data[\"zip_code\"].apply(lambda x: str(x)[:2]).value_counts()"
      ],
      "execution_count": null,
      "outputs": [
        {
          "output_type": "execute_result",
          "data": {
            "text/plain": [
              "94    1472\n",
              "92     988\n",
              "95     815\n",
              "90     703\n",
              "91     565\n",
              "93     417\n",
              "96      40\n",
              "Name: zip_code, dtype: int64"
            ]
          },
          "metadata": {
            "tags": []
          },
          "execution_count": 11
        }
      ]
    },
    {
      "cell_type": "markdown",
      "metadata": {
        "id": "0lkqo9qwgNGf"
      },
      "source": [
        "#### Histogram of Variables"
      ]
    },
    {
      "cell_type": "code",
      "metadata": {
        "id": "Z2kDRLm_JNZe"
      },
      "source": [
        "#Variable Creation\r\n",
        "data[\"zip2d\"] = data[\"zip_code\"].apply(lambda x: str(x)[:2])"
      ],
      "execution_count": null,
      "outputs": []
    },
    {
      "cell_type": "code",
      "metadata": {
        "id": "OIoyYIArfJvq"
      },
      "source": [
        "n = len(data.columns)"
      ],
      "execution_count": null,
      "outputs": []
    },
    {
      "cell_type": "code",
      "metadata": {
        "colab": {
          "base_uri": "https://localhost:8080/",
          "height": 1000
        },
        "id": "VXzahA6gvXBC",
        "outputId": "7dda0983-15b6-4dae-f3ca-a39f4d42e92b"
      },
      "source": [
        "fig, axs = plt.subplots(n//3,3,figsize=(20,20))\n",
        "axs = axs.flatten()\n",
        "for c,ax in zip(data,axs):\n",
        "  sns.histplot(data[c],ax=ax)\n",
        "plt.show()"
      ],
      "execution_count": null,
      "outputs": [
        {
          "output_type": "display_data",
          "data": {
            "image/png": "[encoded data removed]",
            "text/plain": [
              "<Figure size 1440x1440 with 15 Axes>"
            ]
          },
          "metadata": {
            "tags": [],
            "needs_background": "light"
          }
        }
      ]
    },
    {
      "cell_type": "markdown",
      "metadata": {
        "id": "DIuv7Xz6jYDp"
      },
      "source": [
        "As show above, the variables CreditCard, Online, CD ACCount, Securities Account, Education , Family and ZIP2D will be use as Categorical Variables. also the variable got_mortgage would be created to have the different bewteen customer with and without mortgage. In other words. the categorical variables would be all the variables with less than 7 unique values . ID it wont be use"
      ]
    },
    {
      "cell_type": "code",
      "metadata": {
        "id": "TTQujc4apoeq"
      },
      "source": [
        "data.drop([\"id\",\"zip_code\"],axis=1,inplace=True)"
      ],
      "execution_count": null,
      "outputs": []
    },
    {
      "cell_type": "markdown",
      "metadata": {
        "id": "6BdwD7o4pToD"
      },
      "source": [
        "#### Definition of variable type"
      ]
    },
    {
      "cell_type": "code",
      "metadata": {
        "id": "GXcbiOl5oNLM"
      },
      "source": [
        "#Variable Creation\r\n",
        "data[\"got_mortgage\"] = np.array(data.mortgage > 0,dtype=np.int)"
      ],
      "execution_count": null,
      "outputs": []
    },
    {
      "cell_type": "code",
      "metadata": {
        "id": "Dv9tkzodqGud"
      },
      "source": [
        "target = \"personal_loan\""
      ],
      "execution_count": null,
      "outputs": []
    },
    {
      "cell_type": "code",
      "metadata": {
        "id": "6jLlGVoqjW7q"
      },
      "source": [
        "categorical_variables = np.array(data.drop(target,1).columns[data.drop(target,1).nunique().values <= 7])"
      ],
      "execution_count": null,
      "outputs": []
    },
    {
      "cell_type": "code",
      "metadata": {
        "id": "h_dq57BCpi4-"
      },
      "source": [
        "numeric_variables = np.array(data.columns[data.nunique().values > 7])"
      ],
      "execution_count": null,
      "outputs": []
    },
    {
      "cell_type": "code",
      "metadata": {
        "colab": {
          "base_uri": "https://localhost:8080/",
          "height": 195
        },
        "id": "1q7L_ZStozTZ",
        "outputId": "c6375999-7ee5-41a2-eba6-75f8d7f8dd14"
      },
      "source": [
        "data[categorical_variables].head()"
      ],
      "execution_count": null,
      "outputs": [
        {
          "output_type": "execute_result",
          "data": {
            "text/html": [
              "<div>\n",
              "<style scoped>\n",
              "    .dataframe tbody tr th:only-of-type {\n",
              "        vertical-align: middle;\n",
              "    }\n",
              "\n",
              "    .dataframe tbody tr th {\n",
              "        vertical-align: top;\n",
              "    }\n",
              "\n",
              "    .dataframe thead th {\n",
              "        text-align: right;\n",
              "    }\n",
              "</style>\n",
              "<table border=\"1\" class=\"dataframe\">\n",
              "  <thead>\n",
              "    <tr style=\"text-align: right;\">\n",
              "      <th></th>\n",
              "      <th>family</th>\n",
              "      <th>education</th>\n",
              "      <th>securities_account</th>\n",
              "      <th>cd_account</th>\n",
              "      <th>online</th>\n",
              "      <th>creditcard</th>\n",
              "      <th>zip2d</th>\n",
              "      <th>got_mortgage</th>\n",
              "    </tr>\n",
              "  </thead>\n",
              "  <tbody>\n",
              "    <tr>\n",
              "      <th>0</th>\n",
              "      <td>4</td>\n",
              "      <td>1</td>\n",
              "      <td>1</td>\n",
              "      <td>0</td>\n",
              "      <td>0</td>\n",
              "      <td>0</td>\n",
              "      <td>91</td>\n",
              "      <td>0</td>\n",
              "    </tr>\n",
              "    <tr>\n",
              "      <th>1</th>\n",
              "      <td>3</td>\n",
              "      <td>1</td>\n",
              "      <td>1</td>\n",
              "      <td>0</td>\n",
              "      <td>0</td>\n",
              "      <td>0</td>\n",
              "      <td>90</td>\n",
              "      <td>0</td>\n",
              "    </tr>\n",
              "    <tr>\n",
              "      <th>2</th>\n",
              "      <td>1</td>\n",
              "      <td>1</td>\n",
              "      <td>0</td>\n",
              "      <td>0</td>\n",
              "      <td>0</td>\n",
              "      <td>0</td>\n",
              "      <td>94</td>\n",
              "      <td>0</td>\n",
              "    </tr>\n",
              "    <tr>\n",
              "      <th>3</th>\n",
              "      <td>1</td>\n",
              "      <td>2</td>\n",
              "      <td>0</td>\n",
              "      <td>0</td>\n",
              "      <td>0</td>\n",
              "      <td>0</td>\n",
              "      <td>94</td>\n",
              "      <td>0</td>\n",
              "    </tr>\n",
              "    <tr>\n",
              "      <th>4</th>\n",
              "      <td>4</td>\n",
              "      <td>2</td>\n",
              "      <td>0</td>\n",
              "      <td>0</td>\n",
              "      <td>0</td>\n",
              "      <td>1</td>\n",
              "      <td>91</td>\n",
              "      <td>0</td>\n",
              "    </tr>\n",
              "  </tbody>\n",
              "</table>\n",
              "</div>"
            ],
            "text/plain": [
              "   family  education  securities_account  ...  creditcard  zip2d  got_mortgage\n",
              "0       4          1                   1  ...           0     91             0\n",
              "1       3          1                   1  ...           0     90             0\n",
              "2       1          1                   0  ...           0     94             0\n",
              "3       1          2                   0  ...           0     94             0\n",
              "4       4          2                   0  ...           1     91             0\n",
              "\n",
              "[5 rows x 8 columns]"
            ]
          },
          "metadata": {
            "tags": []
          },
          "execution_count": 20
        }
      ]
    },
    {
      "cell_type": "code",
      "metadata": {
        "colab": {
          "base_uri": "https://localhost:8080/",
          "height": 195
        },
        "id": "vfDpK8yupHVP",
        "outputId": "a853e497-7afc-4f3e-8045-4ce43ceae1ea"
      },
      "source": [
        "data[numeric_variables].head()"
      ],
      "execution_count": null,
      "outputs": [
        {
          "output_type": "execute_result",
          "data": {
            "text/html": [
              "<div>\n",
              "<style scoped>\n",
              "    .dataframe tbody tr th:only-of-type {\n",
              "        vertical-align: middle;\n",
              "    }\n",
              "\n",
              "    .dataframe tbody tr th {\n",
              "        vertical-align: top;\n",
              "    }\n",
              "\n",
              "    .dataframe thead th {\n",
              "        text-align: right;\n",
              "    }\n",
              "</style>\n",
              "<table border=\"1\" class=\"dataframe\">\n",
              "  <thead>\n",
              "    <tr style=\"text-align: right;\">\n",
              "      <th></th>\n",
              "      <th>age</th>\n",
              "      <th>experience</th>\n",
              "      <th>income</th>\n",
              "      <th>ccavg</th>\n",
              "      <th>mortgage</th>\n",
              "    </tr>\n",
              "  </thead>\n",
              "  <tbody>\n",
              "    <tr>\n",
              "      <th>0</th>\n",
              "      <td>25</td>\n",
              "      <td>1</td>\n",
              "      <td>49</td>\n",
              "      <td>1.6</td>\n",
              "      <td>0</td>\n",
              "    </tr>\n",
              "    <tr>\n",
              "      <th>1</th>\n",
              "      <td>45</td>\n",
              "      <td>19</td>\n",
              "      <td>34</td>\n",
              "      <td>1.5</td>\n",
              "      <td>0</td>\n",
              "    </tr>\n",
              "    <tr>\n",
              "      <th>2</th>\n",
              "      <td>39</td>\n",
              "      <td>15</td>\n",
              "      <td>11</td>\n",
              "      <td>1.0</td>\n",
              "      <td>0</td>\n",
              "    </tr>\n",
              "    <tr>\n",
              "      <th>3</th>\n",
              "      <td>35</td>\n",
              "      <td>9</td>\n",
              "      <td>100</td>\n",
              "      <td>2.7</td>\n",
              "      <td>0</td>\n",
              "    </tr>\n",
              "    <tr>\n",
              "      <th>4</th>\n",
              "      <td>35</td>\n",
              "      <td>8</td>\n",
              "      <td>45</td>\n",
              "      <td>1.0</td>\n",
              "      <td>0</td>\n",
              "    </tr>\n",
              "  </tbody>\n",
              "</table>\n",
              "</div>"
            ],
            "text/plain": [
              "   age  experience  income  ccavg  mortgage\n",
              "0   25           1      49    1.6         0\n",
              "1   45          19      34    1.5         0\n",
              "2   39          15      11    1.0         0\n",
              "3   35           9     100    2.7         0\n",
              "4   35           8      45    1.0         0"
            ]
          },
          "metadata": {
            "tags": []
          },
          "execution_count": 21
        }
      ]
    },
    {
      "cell_type": "code",
      "metadata": {
        "colab": {
          "base_uri": "https://localhost:8080/"
        },
        "id": "dzowCCDJpOyN",
        "outputId": "d5500d55-7121-4cd7-bf0f-0025354edfd9"
      },
      "source": [
        "data[target].head()"
      ],
      "execution_count": null,
      "outputs": [
        {
          "output_type": "execute_result",
          "data": {
            "text/plain": [
              "0    0\n",
              "1    0\n",
              "2    0\n",
              "3    0\n",
              "4    0\n",
              "Name: personal_loan, dtype: int64"
            ]
          },
          "metadata": {
            "tags": []
          },
          "execution_count": 22
        }
      ]
    },
    {
      "cell_type": "code",
      "metadata": {
        "id": "0rb3Lf9Qs9vG"
      },
      "source": [
        "#TODO: Pair plot of Numerica and something similar of pairplot to Categorical and Heatmap Correlation\r\n",
        "familyEnc = OneHotEncoder(drop=\"first\")\r\n",
        "educationEnc = OneHotEncoder(handle_unknown='ignore',drop=\"first\")\r\n",
        "securitiesEnc = OneHotEncoder(handle_unknown='ignore',drop=\"first\")\r\n",
        "cdEnc = OneHotEncoder(handle_unknown='ignore',drop=\"first\")\r\n",
        "onlineEnc = OneHotEncoder(handle_unknown='ignore',drop=\"first\")\r\n",
        "creditcardEnc = OneHotEncoder(handle_unknown='ignore',drop=\"first\")\r\n",
        "zip2d = OneHotEncoder(handle_unknown='ignore',drop=\"first\")"
      ],
      "execution_count": null,
      "outputs": []
    },
    {
      "cell_type": "code",
      "metadata": {
        "colab": {
          "base_uri": "https://localhost:8080/"
        },
        "id": "blWcSfEm_6s3",
        "outputId": "ee3baf3b-ae80-4294-d1fc-341c7702f308"
      },
      "source": [
        "familyEnc.fit_transform(data[categorical_variables[0]].to_numpy().reshape(-1,1)).toarray()"
      ],
      "execution_count": null,
      "outputs": [
        {
          "output_type": "execute_result",
          "data": {
            "text/plain": [
              "array([[0., 0., 1.],\n",
              "       [0., 1., 0.],\n",
              "       [0., 0., 0.],\n",
              "       ...,\n",
              "       [1., 0., 0.],\n",
              "       [0., 1., 0.],\n",
              "       [0., 1., 0.]])"
            ]
          },
          "metadata": {
            "tags": []
          },
          "execution_count": 51
        }
      ]
    },
    {
      "cell_type": "code",
      "metadata": {
        "colab": {
          "base_uri": "https://localhost:8080/",
          "height": 162
        },
        "id": "7f8Jio9W_Ux3",
        "outputId": "4a47279a-4345-468a-c393-48f947f7d515"
      },
      "source": [
        ""
      ],
      "execution_count": null,
      "outputs": [
        {
          "output_type": "error",
          "ename": "TypeError",
          "evalue": "ignored",
          "traceback": [
            "\u001b[0;31m---------------------------------------------------------------------------\u001b[0m",
            "\u001b[0;31mTypeError\u001b[0m                                 Traceback (most recent call last)",
            "\u001b[0;32m<ipython-input-36-d2b5fa81a512>\u001b[0m in \u001b[0;36m<module>\u001b[0;34m()\u001b[0m\n\u001b[0;32m----> 1\u001b[0;31m \u001b[0mfamilyEnc\u001b[0m\u001b[0;34m.\u001b[0m\u001b[0mfit_transform\u001b[0m\u001b[0;34m(\u001b[0m\u001b[0mdata\u001b[0m\u001b[0;34m[\u001b[0m\u001b[0mcategorical_variables\u001b[0m\u001b[0;34m[\u001b[0m\u001b[0;36m0\u001b[0m\u001b[0;34m]\u001b[0m\u001b[0;34m]\u001b[0m\u001b[0;34m.\u001b[0m\u001b[0mvalues\u001b[0m\u001b[0;34m.\u001b[0m\u001b[0mreshape\u001b[0m\u001b[0;34m[\u001b[0m\u001b[0;34m-\u001b[0m\u001b[0;36m1\u001b[0m\u001b[0;34m,\u001b[0m\u001b[0;36m1\u001b[0m\u001b[0;34m]\u001b[0m\u001b[0;34m)\u001b[0m\u001b[0;34m\u001b[0m\u001b[0;34m\u001b[0m\u001b[0m\n\u001b[0m",
            "\u001b[0;31mTypeError\u001b[0m: 'builtin_function_or_method' object is not subscriptable"
          ]
        }
      ]
    },
    {
      "cell_type": "markdown",
      "metadata": {
        "id": "Owo1h6ARmw5i"
      },
      "source": [
        "## Data Pre processing"
      ]
    },
    {
      "cell_type": "code",
      "metadata": {
        "id": "asOYcfM0myh4"
      },
      "source": [
        ""
      ],
      "execution_count": null,
      "outputs": []
    },
    {
      "cell_type": "code",
      "metadata": {
        "id": "y5TgEIVGmz2e"
      },
      "source": [
        ""
      ],
      "execution_count": null,
      "outputs": []
    },
    {
      "cell_type": "markdown",
      "metadata": {
        "id": "-uno0TqVm0HF"
      },
      "source": [
        "## Modeling"
      ]
    },
    {
      "cell_type": "code",
      "metadata": {
        "id": "tzmiYJVim10x"
      },
      "source": [
        ""
      ],
      "execution_count": null,
      "outputs": []
    },
    {
      "cell_type": "markdown",
      "metadata": {
        "id": "n_bNK6rFnDRJ"
      },
      "source": [
        "## Model Evaluation"
      ]
    },
    {
      "cell_type": "code",
      "metadata": {
        "id": "Ceu-jaFanFS-"
      },
      "source": [
        ""
      ],
      "execution_count": null,
      "outputs": []
    },
    {
      "cell_type": "code",
      "metadata": {
        "id": "ZcAosdsenkek"
      },
      "source": [
        ""
      ],
      "execution_count": null,
      "outputs": []
    },
    {
      "cell_type": "markdown",
      "metadata": {
        "id": "92-gxe5lnol7"
      },
      "source": [
        "## Business Insights"
      ]
    },
    {
      "cell_type": "code",
      "metadata": {
        "id": "epvRRR94nuja"
      },
      "source": [
        ""
      ],
      "execution_count": null,
      "outputs": []
    },
    {
      "cell_type": "code",
      "metadata": {
        "id": "hbdOJvYZqEcd"
      },
      "source": [
        ""
      ],
      "execution_count": null,
      "outputs": []
    }
  ]
}